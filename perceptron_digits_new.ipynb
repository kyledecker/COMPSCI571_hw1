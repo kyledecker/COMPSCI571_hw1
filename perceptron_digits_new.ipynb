{
 "cells": [
  {
   "cell_type": "code",
   "execution_count": 11,
   "metadata": {
    "collapsed": false
   },
   "outputs": [],
   "source": [
    "import pandas as pd\n",
    "import numpy as np\n",
    "import scipy.io as sio"
   ]
  },
  {
   "cell_type": "code",
   "execution_count": 12,
   "metadata": {
    "collapsed": false
   },
   "outputs": [],
   "source": [
    "data = sio.loadmat('mnist_all.mat')"
   ]
  },
  {
   "cell_type": "code",
   "execution_count": 13,
   "metadata": {
    "collapsed": false
   },
   "outputs": [],
   "source": [
    "train0 = data['train0']\n",
    "train1 = data['train1']"
   ]
  },
  {
   "cell_type": "markdown",
   "metadata": {},
   "source": [
    "## Prep the data for classification of 0 or 1"
   ]
  },
  {
   "cell_type": "code",
   "execution_count": 14,
   "metadata": {
    "collapsed": false
   },
   "outputs": [],
   "source": [
    "train_x = np.float32(np.concatenate((train0,train1),axis=0))\n",
    "train_y_0 = np.ones((len(train0),1))*-1; # Label digit 0 as -1\n",
    "train_y_1 = np.ones((len(train1),1))*1; # Labels digit 1 as 1\n",
    "train_y = np.float32(np.concatenate((train_y_0,train_y_1),axis=0))"
   ]
  },
  {
   "cell_type": "markdown",
   "metadata": {},
   "source": [
    "## Randomly permute the training data"
   ]
  },
  {
   "cell_type": "code",
   "execution_count": 15,
   "metadata": {
    "collapsed": true
   },
   "outputs": [],
   "source": [
    "rand_index = np.random.permutation(len(train_y))\n",
    "x = train_x[rand_index,:]\n",
    "y = train_y[rand_index]"
   ]
  },
  {
   "cell_type": "markdown",
   "metadata": {},
   "source": [
    "## Perceptron algorithm on training data"
   ]
  },
  {
   "cell_type": "code",
   "execution_count": 16,
   "metadata": {
    "collapsed": false
   },
   "outputs": [
    {
     "name": "stdout",
     "output_type": "stream",
     "text": [
      "Converged on iteration: 168\n"
     ]
    }
   ],
   "source": [
    "w = np.zeros((1,len(np.transpose(x)))) # Initialize w\n",
    "w = w + y[0]*x[0,:] # First sample always misclassified\n",
    "error = 1\n",
    "iter = 0\n",
    "while (error > 0):\n",
    "    iter = iter + 1\n",
    "    # Test classifcation on all samples\n",
    "    class_all = np.sign(np.transpose(np.dot(w,np.transpose(x)))*y)\n",
    "    error_tmp = (class_all == -1)\n",
    "    error_index = np.where(error_tmp>0)\n",
    "    if (error_tmp.any()): \n",
    "        \n",
    "        # Update based on a misclassified sample\n",
    "        w = w + y[error_index[0][0]]*x[error_index[0][0],:] # Incorrect classification, update\n",
    "        \n",
    "        # Random shuffle again\n",
    "        rand_index = np.random.permutation(len(train_y))\n",
    "        x = train_x[rand_index,:];\n",
    "        y = train_y[rand_index];\n",
    "        \n",
    "        # Test classifcation after update\n",
    "        class_all = np.sign(np.transpose(np.dot(w,np.transpose(x)))*y);\n",
    "        error = len(np.transpose(np.nonzero((class_all == -1)))) / len(y);\n",
    "        #print('Iteration: %d, Classification error = %f' % (iter,error))\n",
    "    else:\n",
    "        error = 0\n",
    "        #print('Iteration: %d, Classification error = %f' % (iter,error))\n",
    "print('Converged on iteration: %d' % (iter))"
   ]
  },
  {
   "cell_type": "markdown",
   "metadata": {},
   "source": [
    "## Test accuracy on the test set"
   ]
  },
  {
   "cell_type": "code",
   "execution_count": 17,
   "metadata": {
    "collapsed": false
   },
   "outputs": [
    {
     "name": "stdout",
     "output_type": "stream",
     "text": [
      "Test accuracy = 99.905437\n"
     ]
    }
   ],
   "source": [
    "test0 = data['test0']\n",
    "test1 = data['test1']\n",
    "test_x = np.float32(np.concatenate((test0,test1),axis=0))\n",
    "test_y_0 = np.ones((len(test0),1))*-1; # Label digit 0 as -1\n",
    "test_y_1 = np.ones((len(test1),1))*1; # Labels digit 1 as 1\n",
    "test_y = np.float32(np.concatenate((test_y_0,test_y_1),axis=0))\n",
    "\n",
    "class_all = np.sign(np.transpose(np.dot(w,np.transpose(x)))*y)\n",
    "\n",
    "class_all_test = np.sign(np.transpose(np.dot(w,np.transpose(test_x)))*test_y)\n",
    "accuracy = len(np.transpose(np.nonzero((class_all_test == 1)))) / len(test_y) * 100\n",
    "print('Test accuracy = %f' % (accuracy))"
   ]
  },
  {
   "cell_type": "markdown",
   "metadata": {},
   "source": [
    "## Feature reduction (eliminate redundant features)"
   ]
  },
  {
   "cell_type": "code",
   "execution_count": 18,
   "metadata": {
    "collapsed": false
   },
   "outputs": [
    {
     "name": "stdout",
     "output_type": "stream",
     "text": [
      "Converged on iteration: 173\n",
      "Test accuracy using feature reduction (total feature # = 617) = 99.858156\n"
     ]
    }
   ],
   "source": [
    "rand_index = np.random.permutation(len(train_y))\n",
    "x = train_x[rand_index,:]\n",
    "y = train_y[rand_index]\n",
    "\n",
    "# find features that are redundant across all samples\n",
    "deviation = np.std(x,axis = 0)\n",
    "feature_index = np.where(deviation>0)\n",
    "x = x[:,feature_index[0]] # Only keep non-redundant features\n",
    "\n",
    "# Perceptron Algorithm on training data\n",
    "w = np.zeros((1,len(np.transpose(x)))) # Initialize w\n",
    "w = w + y[0]*x[0,:] # First sample always misclassified\n",
    "error = 1\n",
    "iter = 0\n",
    "while (error > 0):\n",
    "    iter = iter + 1\n",
    "    # Test classifcation on all samples\n",
    "    class_all = np.sign(np.transpose(np.dot(w,np.transpose(x)))*y)\n",
    "    error_tmp = (class_all == -1)\n",
    "    error_index = np.where(error_tmp>0)\n",
    "    if (error_tmp.any()): \n",
    "        \n",
    "        # Update based on a misclassified sample\n",
    "        w = w + y[error_index[0][0]]*x[error_index[0][0],:] # Incorrect classification, update\n",
    "        \n",
    "        # Random shuffle again\n",
    "        rand_index = np.random.permutation(len(train_y))\n",
    "        x = train_x[rand_index,:];\n",
    "        x = x[:,feature_index[0]]\n",
    "        y = train_y[rand_index];\n",
    "        \n",
    "        # Test classifcation after update\n",
    "        class_all = np.sign(np.transpose(np.dot(w,np.transpose(x)))*y);\n",
    "        error = len(np.transpose(np.nonzero((class_all == -1)))) / len(y);\n",
    "        #print('Iteration: %d, Classification error = %f' % (iter,error))\n",
    "    else:\n",
    "        error = 0\n",
    "        #print('Iteration: %d, Classification error = %f' % (iter,error))\n",
    "print('Converged on iteration: %d' % (iter))\n",
    "\n",
    "# Test accuracy on the test set \n",
    "test_x = np.float32(np.concatenate((test0,test1),axis=0))\n",
    "class_all_test = np.sign(np.transpose(np.dot(w,np.transpose(test_x[:,feature_index[0]])))*test_y)\n",
    "accuracy = len(np.transpose(np.nonzero((class_all_test == 1)))) / len(test_y) * 100\n",
    "print('Test accuracy using feature reduction (total feature # = %d) = %f' % (len(np.transpose(w)),accuracy))"
   ]
  },
  {
   "cell_type": "markdown",
   "metadata": {},
   "source": [
    "## Further feature reduction (eliminate low weight features)"
   ]
  },
  {
   "cell_type": "code",
   "execution_count": 19,
   "metadata": {
    "collapsed": false
   },
   "outputs": [
    {
     "name": "stdout",
     "output_type": "stream",
     "text": [
      "Converged on iteration: 214\n",
      "Test accuracy using feature reduction (total feature # = 62) = 99.858156\n"
     ]
    }
   ],
   "source": [
    "rand_index = np.random.permutation(len(train_y))\n",
    "x = train_x[rand_index,:]\n",
    "y = train_y[rand_index]\n",
    "\n",
    "# find features that have high perceptron weights resulting from training\n",
    "feature_thresh = np.percentile(abs(w),90);\n",
    "feature_index2 = np.where(abs(w)>feature_thresh);\n",
    "\n",
    "x = x[:,feature_index[0]] # Only keep non-redundant features\n",
    "x = x[:,feature_index2[1]] # Only keep high weight features\n",
    "\n",
    "# Perceptron Algorithm on training data\n",
    "w = np.zeros((1,len(np.transpose(x)))) # Initialize w\n",
    "w = w + y[0]*x[0,:] # First sample always misclassified\n",
    "error = 1\n",
    "iter = 0\n",
    "while (error > 0):\n",
    "    iter = iter + 1\n",
    "    # Test classifcation on all samples\n",
    "    class_all = np.sign(np.transpose(np.dot(w,np.transpose(x)))*y)\n",
    "    error_tmp = (class_all == -1)\n",
    "    error_index = np.where(error_tmp>0)\n",
    "    if (error_tmp.any()): \n",
    "        \n",
    "        # Update based on a misclassified sample\n",
    "        w = w + y[error_index[0][0]]*x[error_index[0][0],:] # Incorrect classification, update\n",
    "        \n",
    "        # Random shuffle again\n",
    "        rand_index = np.random.permutation(len(train_y))\n",
    "        x = train_x[rand_index,:];\n",
    "        x = x[:,feature_index[0]]\n",
    "        x = x[:,feature_index2[1]]\n",
    "        y = train_y[rand_index];\n",
    "        \n",
    "        # Test classifcation after update\n",
    "        class_all = np.sign(np.transpose(np.dot(w,np.transpose(x)))*y);\n",
    "        error = len(np.transpose(np.nonzero((class_all == -1)))) / len(y);\n",
    "        #print('Iteration: %d, Classification error = %f' % (iter,error))\n",
    "    else:\n",
    "        error = 0\n",
    "        #print('Iteration: %d, Classification error = %f' % (iter,error))\n",
    "print('Converged on iteration: %d' % (iter))\n",
    "\n",
    "# Test accuracy on the test set \n",
    "test_x = np.float32(np.concatenate((test0,test1),axis=0))\n",
    "test_x = test_x[:,feature_index[0]]\n",
    "test_x = test_x[:,feature_index2[1]]\n",
    "class_all_test = np.sign(np.transpose(np.dot(w,np.transpose(test_x)))*test_y)\n",
    "accuracy = len(np.transpose(np.nonzero((class_all_test == 1)))) / len(test_y) * 100\n",
    "print('Test accuracy using feature reduction (total feature # = %d) = %f' % (len(np.transpose(w)),accuracy))"
   ]
  }
 ],
 "metadata": {
  "anaconda-cloud": {},
  "kernelspec": {
   "display_name": "Python 3",
   "language": "python",
   "name": "python3"
  },
  "language_info": {
   "codemirror_mode": {
    "name": "ipython",
    "version": 3
   },
   "file_extension": ".py",
   "mimetype": "text/x-python",
   "name": "python",
   "nbconvert_exporter": "python",
   "pygments_lexer": "ipython3",
   "version": "3.5.2"
  }
 },
 "nbformat": 4,
 "nbformat_minor": 0
}
